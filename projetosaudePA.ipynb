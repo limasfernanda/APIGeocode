{
 "cells": [
  {
   "cell_type": "markdown",
   "metadata": {},
   "source": [
    "Explorando uma IA Generativa em um Pipeline ETL com Python\n",
    "\n",
    "CEP para endereço e coordenada API Geocoding"
   ]
  },
  {
   "cell_type": "code",
   "execution_count": 1,
   "metadata": {},
   "outputs": [],
   "source": [
    "import pandas as pd\n",
    "import requests\n",
    "import json\n",
    "import unidecode"
   ]
  },
  {
   "cell_type": "markdown",
   "metadata": {},
   "source": [
    "EXTRACT\n",
    "\n",
    "Carregando dados .csv , lembrando que a planilha que contém acentos"
   ]
  },
  {
   "cell_type": "code",
   "execution_count": 2,
   "metadata": {},
   "outputs": [
    {
     "data": {
      "text/html": [
       "<div>\n",
       "<style scoped>\n",
       "    .dataframe tbody tr th:only-of-type {\n",
       "        vertical-align: middle;\n",
       "    }\n",
       "\n",
       "    .dataframe tbody tr th {\n",
       "        vertical-align: top;\n",
       "    }\n",
       "\n",
       "    .dataframe thead th {\n",
       "        text-align: right;\n",
       "    }\n",
       "</style>\n",
       "<table border=\"1\" class=\"dataframe\">\n",
       "  <thead>\n",
       "    <tr style=\"text-align: right;\">\n",
       "      <th></th>\n",
       "      <th>MUNICÍPIO</th>\n",
       "      <th>NOME</th>\n",
       "      <th>CEP</th>\n",
       "    </tr>\n",
       "  </thead>\n",
       "  <tbody>\n",
       "    <tr>\n",
       "      <th>0</th>\n",
       "      <td>BELEM</td>\n",
       "      <td>URE MATERNO INFANTIL - UREMIA</td>\n",
       "      <td>66040-020</td>\n",
       "    </tr>\n",
       "    <tr>\n",
       "      <th>1</th>\n",
       "      <td>BELEM</td>\n",
       "      <td>UEPA-MARCO</td>\n",
       "      <td>66087-662</td>\n",
       "    </tr>\n",
       "    <tr>\n",
       "      <th>2</th>\n",
       "      <td>BELEM</td>\n",
       "      <td>URE DEMÉTRIO MEDRADO</td>\n",
       "      <td>66120-680</td>\n",
       "    </tr>\n",
       "    <tr>\n",
       "      <th>3</th>\n",
       "      <td>BELEM</td>\n",
       "      <td>URE DIPE</td>\n",
       "      <td>66113-240</td>\n",
       "    </tr>\n",
       "    <tr>\n",
       "      <th>4</th>\n",
       "      <td>BELEM</td>\n",
       "      <td>URE PRESIDENTE VARGAS</td>\n",
       "      <td>66017-000</td>\n",
       "    </tr>\n",
       "  </tbody>\n",
       "</table>\n",
       "</div>"
      ],
      "text/plain": [
       "  MUNICÍPIO                           NOME        CEP\n",
       "0     BELEM  URE MATERNO INFANTIL - UREMIA  66040-020\n",
       "1    BELEM                     UEPA-MARCO   66087-662\n",
       "2     BELEM           URE DEMÉTRIO MEDRADO  66120-680\n",
       "3    BELEM                       URE DIPE   66113-240\n",
       "4     BELEM          URE PRESIDENTE VARGAS  66017-000"
      ]
     },
     "execution_count": 2,
     "metadata": {},
     "output_type": "execute_result"
    }
   ],
   "source": [
    "df=pd.read_csv(\"saudepac.csv\", sep=';',encoding = \"latin1\")\n",
    "locep = df['CEP'].tolist()\n",
    "df.head()"
   ]
  },
  {
   "cell_type": "markdown",
   "metadata": {},
   "source": [
    "TRANSFORM\n",
    "\n",
    "Repositório API: https://brasilapi.com.br/docs\n",
    "\n",
    "O BrasilAPI utiliza as coordenadas provindas do OpenStreetMap"
   ]
  },
  {
   "cell_type": "code",
   "execution_count": 3,
   "metadata": {},
   "outputs": [],
   "source": [
    "cep_api_url='https://brasilapi.com.br/api/cep/v2'"
   ]
  },
  {
   "cell_type": "code",
   "execution_count": 4,
   "metadata": {},
   "outputs": [],
   "source": [
    "def get_local(cep):\n",
    "  response = requests.get(f'{cep_api_url}/{cep}')\n",
    "  return response.json() if response.status_code == 200 else None\n",
    "\n",
    "address=[]\n",
    "for count in range(len(locep)):\n",
    "  address.append(get_local(locep[count]))"
   ]
  },
  {
   "cell_type": "markdown",
   "metadata": {},
   "source": [
    "Formando novas variáveis: endereços e coordenadas"
   ]
  },
  {
   "cell_type": "code",
   "execution_count": 5,
   "metadata": {},
   "outputs": [],
   "source": [
    "geocode=[]\n",
    "\n",
    "for count in range(len(locep)):\n",
    "    if None==address[count]:\n",
    "        geocode.append(None)\n",
    "    else:\n",
    "        tudo=(f\"{address[count]['street']}, {address[count]['neighborhood']}, {address[count]['city']}-{address[count]['state']}\")\n",
    "        geocode.append(tudo)"
   ]
  },
  {
   "cell_type": "code",
   "execution_count": 6,
   "metadata": {},
   "outputs": [],
   "source": [
    "coordenadas=[]\n",
    "\n",
    "for count in range(len(locep)):\n",
    "    if None==address[count]:\n",
    "        coordenadas.append(None)\n",
    "    elif {}==address[count]['location']['coordinates']:\n",
    "        coordenadas.append(None)\n",
    "    else:\n",
    "        longlat=(f\"{address[count]['location']['coordinates']['longitude']}, {address[count]['location']['coordinates']['latitude']}\")\n",
    "        coordenadas.append(longlat)"
   ]
  },
  {
   "cell_type": "markdown",
   "metadata": {},
   "source": [
    "LOAD\n",
    "\n",
    "Criar uma nova planilha adicionando novas colunas com as variáveis de endereço e coordenadas"
   ]
  },
  {
   "cell_type": "code",
   "execution_count": 7,
   "metadata": {},
   "outputs": [],
   "source": [
    "df['ENDEREÇO']=geocode\n",
    "df['COORDENADAS']=coordenadas\n",
    "#print(df)"
   ]
  },
  {
   "cell_type": "code",
   "execution_count": 8,
   "metadata": {},
   "outputs": [],
   "source": [
    "df.to_csv(\"saudePAatualizado.csv\",sep=';',encoding = \"latin1\")"
   ]
  }
 ],
 "metadata": {
  "kernelspec": {
   "display_name": "Python 3",
   "language": "python",
   "name": "python3"
  },
  "language_info": {
   "codemirror_mode": {
    "name": "ipython",
    "version": 3
   },
   "file_extension": ".py",
   "mimetype": "text/x-python",
   "name": "python",
   "nbconvert_exporter": "python",
   "pygments_lexer": "ipython3",
   "version": "3.11.4"
  },
  "orig_nbformat": 4
 },
 "nbformat": 4,
 "nbformat_minor": 2
}
